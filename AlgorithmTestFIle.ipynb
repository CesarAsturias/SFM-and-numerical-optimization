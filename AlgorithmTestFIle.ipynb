{
 "cells": [
  {
   "cell_type": "code",
   "execution_count": 1,
   "metadata": {},
   "outputs": [
    {
     "data": {
      "text/html": [
       "<style>.container { width:100% !important; }</style>"
      ],
      "text/plain": [
       "<IPython.core.display.HTML object>"
      ]
     },
     "metadata": {},
     "output_type": "display_data"
    },
    {
     "ename": "ModuleNotFoundError",
     "evalue": "No module named 'VisualOdometry'",
     "output_type": "error",
     "traceback": [
      "\u001b[1;31m---------------------------------------------------------------------------\u001b[0m",
      "\u001b[1;31mModuleNotFoundError\u001b[0m                       Traceback (most recent call last)",
      "\u001b[1;32m<ipython-input-1-684a829a018d>\u001b[0m in \u001b[0;36m<module>\u001b[1;34m()\u001b[0m\n\u001b[0;32m      4\u001b[0m \u001b[1;32mfrom\u001b[0m \u001b[0mIPython\u001b[0m\u001b[1;33m.\u001b[0m\u001b[0mcore\u001b[0m\u001b[1;33m.\u001b[0m\u001b[0mdisplay\u001b[0m \u001b[1;32mimport\u001b[0m \u001b[0mdisplay\u001b[0m\u001b[1;33m,\u001b[0m \u001b[0mHTML\u001b[0m\u001b[1;33m\u001b[0m\u001b[0m\n\u001b[0;32m      5\u001b[0m \u001b[0mdisplay\u001b[0m\u001b[1;33m(\u001b[0m\u001b[0mHTML\u001b[0m\u001b[1;33m(\u001b[0m\u001b[1;34m\"<style>.container { width:100% !important; }</style>\"\u001b[0m\u001b[1;33m)\u001b[0m\u001b[1;33m)\u001b[0m\u001b[1;33m\u001b[0m\u001b[0m\n\u001b[1;32m----> 6\u001b[1;33m \u001b[1;32mfrom\u001b[0m \u001b[0mVisualOdometry\u001b[0m \u001b[1;32mimport\u001b[0m \u001b[0mVisualOdometry\u001b[0m\u001b[1;33m\u001b[0m\u001b[0m\n\u001b[0m\u001b[0;32m      7\u001b[0m \u001b[1;32mfrom\u001b[0m \u001b[0mCamera\u001b[0m \u001b[1;32mimport\u001b[0m \u001b[0mCamera\u001b[0m\u001b[1;33m\u001b[0m\u001b[0m\n\u001b[0;32m      8\u001b[0m \u001b[1;32mimport\u001b[0m \u001b[0mnumpy\u001b[0m \u001b[1;32mas\u001b[0m \u001b[0mnp\u001b[0m\u001b[1;33m\u001b[0m\u001b[0m\n",
      "\u001b[1;31mModuleNotFoundError\u001b[0m: No module named 'VisualOdometry'"
     ]
    }
   ],
   "source": [
    "\"\"\"\n",
    "Load the required modules\n",
    "\"\"\"\n",
    "from IPython.core.display import display, HTML\n",
    "display(HTML(\"<style>.container { width:100% !important; }</style>\"))\n",
    "from VisualOdometry import VisualOdometry\n",
    "from Camera import Camera\n",
    "import numpy as np\n",
    "from dataset import Dataset\n",
    "from itertools import compress\n",
    "%pylab inline\n",
    "import matplotlib.pyplot as plt\n",
    "import matplotlib as mpl\n",
    "mpl.rcParams['savefig.dpi'] = 280\n",
    "mpl.rcParams['figure.dpi'] = 280\n",
    "\n",
    "import cv2"
   ]
  },
  {
   "cell_type": "code",
   "execution_count": 37,
   "metadata": {},
   "outputs": [
    {
     "name": "stdout",
     "output_type": "stream",
     "text": [
      "Shape needed for recoverpose: (732, 2)\n",
      "Type needed for recoverpose: <class 'numpy.ndarray'>\n",
      "Type: <class 'numpy.float64'>\n"
     ]
    }
   ],
   "source": [
    "\"\"\"\n",
    "Init object\n",
    "\"\"\"\n",
    "matcher_parameters = dict(detector='orb',\n",
    "                          matcher='bf')\n",
    "path = '/home/cesar/Documents/Projects/Computer_Vision/TFG/Kitti_Dataset/dataset/sequences/00/image_0'\n",
    "vo = VisualOdometry(matcher_parameters, path)\n",
    "\"\"\" Performs first iteration\"\"\"\n",
    "vo.init_reconstruction(optimize=False)"
   ]
  },
  {
   "cell_type": "markdown",
   "metadata": {},
   "source": [
    "# Tracking local map method"
   ]
  },
  {
   "cell_type": "code",
   "execution_count": 38,
   "metadata": {},
   "outputs": [
    {
     "name": "stdout",
     "output_type": "stream",
     "text": [
      "Number of map points: 246\n",
      "Tracked points: 246\n",
      "8\n",
      "[<MapPoint.MapPoint object at 0x7f22123c7470>, <MapPoint.MapPoint object at 0x7f22123c7a90>, <MapPoint.MapPoint object at 0x7f22123c7630>, <MapPoint.MapPoint object at 0x7f22123c7780>, <MapPoint.MapPoint object at 0x7f22123c7320>]\n",
      "Number of map points: 246\n",
      "[1]\n",
      "[ 429.16903998  152.95569926    1.        ]\n",
      "True\n",
      "Point: (429.0, 152.0)\n",
      "Point: (462.0, 166.0)\n",
      "Point: (445.0, 152.0)\n",
      "Point: (447.0, 164.0)\n",
      "Point: (446.0, 142.0)\n",
      "Point: (536.0, 182.0)\n",
      "Point: (529.0, 185.0)\n",
      "Point: (444.0, 181.0)\n",
      "Point: (421.0, 143.0)\n",
      "Point: (441.0, 143.0)\n",
      "Point: (497.0, 180.0)\n",
      "Point: (489.0, 180.0)\n",
      "Point: (436.0, 162.0)\n",
      "Point: (494.0, 190.0)\n",
      "Point: (496.0, 190.0)\n",
      "Point: (474.0, 191.0)\n",
      "Point: (445.0, 164.0)\n",
      "Point: (437.0, 177.0)\n",
      "Point: (537.0, 193.0)\n",
      "Point: (413.0, 157.0)\n",
      "Point: (394.0, 174.0)\n",
      "Point: (536.0, 196.0)\n",
      "Point: (613.0, 173.0)\n",
      "Point: (428.0, 147.0)\n",
      "Point: (441.0, 148.0)\n",
      "Point: (434.0, 148.0)\n",
      "Point: (423.0, 148.0)\n",
      "Point: (482.0, 167.0)\n",
      "Point: (486.0, 137.0)\n",
      "Point: (415.0, 144.0)\n",
      "Point: (463.0, 170.0)\n",
      "Point: (470.0, 148.0)\n",
      "Point: (460.0, 209.0)\n",
      "Point: (416.0, 187.0)\n",
      "Point: (395.0, 170.0)\n",
      "Point: (610.0, 166.0)\n",
      "Point: (595.0, 166.0)\n",
      "Point: (459.0, 165.0)\n",
      "Point: (475.0, 194.0)\n",
      "Point: (598.0, 163.0)\n",
      "Point: (609.0, 147.0)\n",
      "Point: (428.0, 141.0)\n",
      "Point: (538.0, 178.0)\n",
      "Point: (478.0, 179.0)\n",
      "Point: (409.0, 136.0)\n",
      "Point: (452.0, 153.0)\n",
      "Point: (516.0, 182.0)\n",
      "Point: (450.0, 180.0)\n",
      "Point: (493.0, 144.0)\n",
      "Point: (536.0, 177.0)\n",
      "Point: (512.0, 177.0)\n",
      "Point: (532.0, 192.0)\n",
      "Point: (612.0, 161.0)\n",
      "Point: (496.0, 154.0)\n",
      "Point: (600.0, 166.0)\n",
      "Point: (471.0, 156.0)\n",
      "Point: (495.0, 138.0)\n",
      "Point: (518.0, 187.0)\n",
      "Point: (521.0, 184.0)\n",
      "Point: (479.0, 162.0)\n",
      "Point: (409.0, 157.0)\n",
      "Point: (427.0, 166.0)\n",
      "Point: (447.0, 176.0)\n",
      "Point: (414.0, 163.0)\n",
      "Point: (644.0, 122.0)\n",
      "Point: (544.0, 202.0)\n",
      "Point: (389.0, 128.0)\n",
      "Point: (428.0, 142.0)\n",
      "Point: (421.0, 143.0)\n",
      "Point: (433.0, 148.0)\n",
      "Point: (537.0, 195.0)\n",
      "Point: (548.0, 194.0)\n",
      "Point: (441.0, 143.0)\n",
      "Point: (492.0, 143.0)\n",
      "Point: (475.0, 191.0)\n",
      "Point: (399.0, 158.0)\n",
      "Point: (495.0, 190.0)\n",
      "Point: (600.0, 165.0)\n",
      "Point: (372.0, 146.0)\n",
      "Point: (428.0, 145.0)\n",
      "Point: (488.0, 179.0)\n",
      "Point: (499.0, 179.0)\n",
      "Point: (500.0, 185.0)\n",
      "Point: (528.0, 181.0)\n",
      "Point: (529.0, 184.0)\n",
      "Point: (520.0, 184.0)\n",
      "Point: (535.0, 182.0)\n",
      "Point: (445.0, 145.0)\n",
      "Point: (439.0, 146.0)\n",
      "Point: (415.0, 148.0)\n",
      "Point: (516.0, 182.0)\n",
      "Point: (369.0, 150.0)\n",
      "Point: (391.0, 149.0)\n",
      "Point: (422.0, 149.0)\n",
      "Point: (517.0, 184.0)\n",
      "Point: (444.0, 152.0)\n",
      "Point: (536.0, 177.0)\n",
      "Point: (443.0, 197.0)\n",
      "Point: (495.0, 154.0)\n",
      "Point: (484.0, 136.0)\n",
      "Point: (484.0, 169.0)\n",
      "Point: (463.0, 170.0)\n",
      "Point: (445.0, 170.0)\n",
      "Point: (478.0, 168.0)\n",
      "Point: (481.0, 167.0)\n",
      "Point: (422.0, 167.0)\n",
      "Point: (414.0, 143.0)\n",
      "Point: (458.0, 168.0)\n",
      "Point: (454.0, 206.0)\n",
      "Point: (476.0, 181.0)\n",
      "Point: (535.0, 182.0)\n",
      "Point: (375.0, 123.0)\n",
      "Point: (491.0, 149.0)\n",
      "Point: (442.0, 180.0)\n",
      "Point: (432.0, 181.0)\n",
      "Point: (447.0, 151.0)\n",
      "Point: (498.0, 178.0)\n",
      "Point: (488.0, 178.0)\n",
      "Point: (450.0, 179.0)\n",
      "Point: (476.0, 191.0)\n",
      "Point: (381.0, 129.0)\n",
      "Point: (538.0, 193.0)\n",
      "Point: (612.0, 173.0)\n",
      "Point: (485.0, 170.0)\n",
      "Point: (462.0, 169.0)\n",
      "Point: (611.0, 168.0)\n",
      "Point: (548.0, 194.0)\n",
      "Point: (406.0, 137.0)\n",
      "Point: (446.0, 166.0)\n",
      "Point: (427.0, 166.0)\n",
      "Point: (492.0, 137.0)\n",
      "Point: (450.0, 164.0)\n",
      "Point: (436.0, 163.0)\n",
      "Point: (528.0, 183.0)\n",
      "Point: (420.0, 143.0)\n",
      "Point: (446.0, 143.0)\n",
      "Point: (492.0, 143.0)\n",
      "Point: (429.0, 144.0)\n",
      "Point: (433.0, 147.0)\n",
      "Point: (447.0, 147.0)\n",
      "Point: (373.0, 118.0)\n",
      "Point: (495.0, 154.0)\n",
      "Point: (485.0, 153.0)\n",
      "Point: (429.0, 151.0)\n",
      "Point: (485.0, 136.0)\n",
      "Point: (466.0, 166.0)\n",
      "Point: (516.0, 184.0)\n",
      "Point: (502.0, 188.0)\n",
      "Point: (455.0, 157.0)\n",
      "Point: (469.0, 148.0)\n",
      "Point: (445.0, 170.0)\n",
      "Point: (521.0, 184.0)\n",
      "Point: (492.0, 142.0)\n",
      "Point: (437.0, 175.0)\n",
      "Point: (421.0, 144.0)\n",
      "Point: (443.0, 144.0)\n",
      "Point: (376.0, 137.0)\n",
      "Point: (437.0, 151.0)\n",
      "Point: (456.0, 164.0)\n",
      "Point: (480.0, 164.0)\n",
      "Point: (528.0, 183.0)\n",
      "Point: (483.0, 171.0)\n",
      "Point: (445.0, 166.0)\n",
      "Point: (428.0, 146.0)\n",
      "Point: (547.0, 195.0)\n",
      "Point: (463.0, 170.0)\n",
      "Point: (440.0, 180.0)\n",
      "Point: (494.0, 154.0)\n",
      "Point: (432.0, 149.0)\n",
      "Point: (451.0, 164.0)\n",
      "Point: (494.0, 192.0)\n",
      "Point: (421.0, 151.0)\n",
      "Point: (440.0, 163.0)\n",
      "Point: (435.0, 163.0)\n",
      "Point: (414.0, 163.0)\n",
      "Point: (497.0, 178.0)\n",
      "Point: (476.0, 192.0)\n",
      "Point: (420.0, 159.0)\n",
      "Point: (496.0, 148.0)\n",
      "Point: (454.0, 158.0)\n",
      "Point: (444.0, 152.0)\n",
      "Point: (459.0, 164.0)\n",
      "Point: (444.0, 169.0)\n",
      "Point: (493.0, 183.0)\n",
      "Point: (640.0, 123.0)\n",
      "Point: (489.0, 148.0)\n",
      "Point: (445.0, 208.0)\n",
      "Point: (418.0, 209.0)\n",
      "Point: (419.0, 158.0)\n",
      "Point: (429.0, 160.0)\n",
      "Point: (435.0, 162.0)\n",
      "Point: (443.0, 197.0)\n",
      "Point: (454.0, 164.0)\n",
      "Point: (443.0, 168.0)\n",
      "Point: (476.0, 191.0)\n",
      "Point: (497.0, 176.0)\n",
      "Point: (439.0, 179.0)\n",
      "Point: (429.0, 181.0)\n",
      "Point: (417.0, 189.0)\n",
      "Point: (487.0, 176.0)\n",
      "Point: (493.0, 191.0)\n",
      "Point: (435.0, 172.0)\n",
      "Point: (483.0, 170.0)\n",
      "Point: (437.0, 150.0)\n",
      "Point: (462.0, 168.0)\n",
      "Point: (439.0, 197.0)\n",
      "Point: (538.0, 199.0)\n",
      "Point: (493.0, 154.0)\n",
      "Point: (450.0, 156.0)\n",
      "Point: (501.0, 187.0)\n",
      "Point: (412.0, 142.0)\n",
      "Point: (378.0, 122.0)\n",
      "Point: (430.0, 160.0)\n",
      "Point: (642.0, 125.0)\n",
      "Point: (437.0, 180.0)\n",
      "Point: (430.0, 180.0)\n",
      "Point: (420.0, 155.0)\n",
      "Point: (450.0, 202.0)\n",
      "Point: (462.0, 167.0)\n",
      "Point: (497.0, 175.0)\n",
      "Point: (438.0, 172.0)\n",
      "Point: (477.0, 192.0)\n",
      "Point: (492.0, 184.0)\n",
      "Point: (418.0, 189.0)\n",
      "Point: (318.0, 107.0)\n",
      "Point: (544.0, 194.0)\n",
      "Point: (415.0, 148.0)\n",
      "Point: (410.0, 155.0)\n",
      "Point: (477.0, 180.0)\n",
      "Point: (448.0, 156.0)\n",
      "Point: (441.0, 210.0)\n",
      "Point: (430.0, 180.0)\n",
      "Point: (454.0, 165.0)\n",
      "Point: (394.0, 174.0)\n",
      "Point: (501.0, 186.0)\n",
      "Point: (483.0, 171.0)\n",
      "Point: (450.0, 201.0)\n",
      "Point: (415.0, 162.0)\n",
      "Point: (456.0, 204.0)\n",
      "Point: (543.0, 194.0)\n",
      "Point: (440.0, 205.0)\n",
      "Point: (440.0, 198.0)\n",
      "Point: (404.0, 195.0)\n",
      "Point: (437.0, 187.0)\n",
      "Point: (483.0, 146.0)\n",
      "Point: (397.0, 180.0)\n"
     ]
    }
   ],
   "source": [
    "vo.kitti.read_image()\n",
    "previous_image = vo.kitti.image_1.copy()\n",
    "points = vo.scene.cameras[vo.index].points\n",
    "print(\"Number of map points: {}\".format(len(vo.scene.structure)))\n",
    "# Lucas-Kanade optical flow\n",
    "mask, lk_prev_points, lk_next_points = vo.matcher.lktracker(previous_image, vo.kitti.image_2, points)\n",
    "print(\"Tracked points: {}\".format(len(lk_next_points)))\n",
    "# Compute F and E using the tracked points\n",
    "F = vo.FindFundamentalRansac(lk_next_points, points[mask])\n",
    "E = vo.E_from_F(F)\n",
    "# Create a new cam object\n",
    "pts1 = (np.reshape(points[mask], (len(points[mask]), 2))).T\n",
    "pts2 = (np.reshape(lk_next_points, (len(lk_next_points), 2))).T\n",
    "R, t = vo.get_pose(pts1.T, pts2.T,vo.cam.K, E)\n",
    "cam = Camera()\n",
    "cam.set_R(R)\n",
    "cam.set_t(t)\n",
    "cam.Rt2P(inplace=True)\n",
    "# Project local map\n",
    "vo.scene.add_camera(cam)\n",
    "kp_proj, projected_map = vo.scene.project_local_map(vo.index + 1, as_kp=True)\n",
    "print(kp_proj[0].pt[1] >1)\n",
    "kp_proj = [kp for kp in kp_proj if int(kp.pt[0])>0 ]\n",
    "kp_proj = [kp for kp in kp_proj if int(kp.pt[0]) < 1230 ]\n",
    "kp_proj = [kp for kp in kp_proj if int(kp.pt[1])>0 ]\n",
    "kp_proj = [kp for kp in kp_proj if int(kp.pt[1]) < 360 ]\n",
    "for point in kp_proj:\n",
    "    print(\"Point: {}\".format(point.pt))\n",
    "    #print(\"Point: {}\".format())\n",
    "    "
   ]
  },
  {
   "cell_type": "code",
   "execution_count": null,
   "metadata": {
    "collapsed": true
   },
   "outputs": [],
   "source": [
    "camera1 = vo.scene.cameras[1]"
   ]
  },
  {
   "cell_type": "markdown",
   "metadata": {
    "collapsed": true
   },
   "source": [
    "# Crop image"
   ]
  },
  {
   "cell_type": "code",
   "execution_count": null,
   "metadata": {
    "collapsed": true
   },
   "outputs": [],
   "source": [
    "data = Dataset('/home/cesar/Documents/Projects/Computer_Vision/TFG/Kitti_Dataset/dataset/sequences/00/image_0')\n",
    "data.read_image()\n",
    "print(\"Wide: {}\".format(data.image_width))\n",
    "print(\"Height: {}\".format(data.image_height))"
   ]
  },
  {
   "cell_type": "markdown",
   "metadata": {},
   "source": [
    "### 1. Find keypoints in the image (in the application this keypoints are the mappoints)"
   ]
  },
  {
   "cell_type": "code",
   "execution_count": null,
   "metadata": {
    "collapsed": true
   },
   "outputs": [],
   "source": [
    "detector = cv2.ORB_create(2000)\n",
    "patch_size = 80\n",
    "def kp_list_to_np( kp_list):\n",
    "        \"\"\" Transforms a list of Keypoints into a numpy ndarray\n",
    "\n",
    "        :param kp_list: List of KeyPoint_ objects\n",
    "        :type kp_list: List\n",
    "\n",
    "        :returns: A Numpy ndarray (nx2) with the KeyPoints coordinates\n",
    "        :rtype: Numpy ndarray\n",
    "\n",
    "        \"\"\"\n",
    "        temp = [item.pt for item in kp_list]\n",
    "        return np.asarray(temp)\n",
    "kp1, desc1 = detector.detectAndCompute(data.image_2, None)\n",
    "keypoints = kp_list_to_np(kp1)\n",
    "# Show the ROI where we will extract new keypoints\n",
    "roi1 = data.crop_image(np.asarray(keypoints[10]), np.array([patch_size, patch_size]), data.image_2, center=True)\n",
    "plt.scatter(x=[patch_size / 2], y=[patch_size / 2], c='r', s=20)\n",
    "img = plt.imshow(roi1)"
   ]
  },
  {
   "cell_type": "markdown",
   "metadata": {},
   "source": [
    "### 2. Load a new image and crop it using as center a keypoint"
   ]
  },
  {
   "cell_type": "code",
   "execution_count": null,
   "metadata": {
    "collapsed": true
   },
   "outputs": [],
   "source": [
    "data.read_image()\n",
    "data.read_image()\n",
    "data.read_image()\n",
    "roi = data.crop_image(np.asarray(keypoints[10]), np.array([patch_size, patch_size]), data.image_2, center=True)\n",
    "img = plt.imshow(roi)\n",
    "\n",
    "plt.show()"
   ]
  },
  {
   "cell_type": "markdown",
   "metadata": {},
   "source": [
    "## Find new keypoints in this ROI"
   ]
  },
  {
   "cell_type": "code",
   "execution_count": null,
   "metadata": {
    "collapsed": true
   },
   "outputs": [],
   "source": [
    "kp2, desc2 = detector.detectAndCompute(roi, None)\n",
    "keypoints2 = kp_list_to_np(kp2)\n",
    "# Create a vector of descriptors for the keypoint in question using np.tile\n",
    "desc_kp = np.tile(desc1[0], (len(kp2), 1))\n",
    "# Match tracked keypoint descriptor with all the new descriptors\n",
    "matcher = cv2.BFMatcher(cv2.NORM_HAMMING, crossCheck=False) \n",
    "matches1 = matcher.knnMatch(desc_kp, desc2, 2) \n",
    "\n",
    "# Sort them in the order of their distance.\n",
    "matches = sorted(matches1, key = lambda x:x[0].distance)\n",
    "# Print best match coordinates\n",
    "print(keypoints2[matches[0][0].queryIdx])\n",
    "trackedpoint = keypoints2[matches[0][0].queryIdx]"
   ]
  },
  {
   "cell_type": "markdown",
   "metadata": {},
   "source": [
    "## Plot in the new roi the tracked keypoint (center of the roi) and the best candidate\n",
    "\n",
    "Do this steps for all the map points in the local map and discard bad tracked points using Ransac"
   ]
  },
  {
   "cell_type": "code",
   "execution_count": null,
   "metadata": {
    "collapsed": true
   },
   "outputs": [],
   "source": [
    "img = plt.imshow(roi)\n",
    "plt.scatter(x=[patch_size / 2, int(trackedpoint[0])], y=[patch_size / 2, int(trackedpoint[1])], c='r', s=20)\n",
    "plt.show()"
   ]
  },
  {
   "cell_type": "code",
   "execution_count": null,
   "metadata": {
    "collapsed": true
   },
   "outputs": [],
   "source": [
    "keypoint = cv2.KeyPoint(x=2,y=3, _size=5)"
   ]
  },
  {
   "cell_type": "code",
   "execution_count": null,
   "metadata": {
    "collapsed": true
   },
   "outputs": [],
   "source": []
  }
 ],
 "metadata": {
  "kernelspec": {
   "display_name": "Python 3",
   "language": "python",
   "name": "python3"
  },
  "language_info": {
   "codemirror_mode": {
    "name": "ipython",
    "version": 3
   },
   "file_extension": ".py",
   "mimetype": "text/x-python",
   "name": "python",
   "nbconvert_exporter": "python",
   "pygments_lexer": "ipython3",
   "version": "3.6.3"
  }
 },
 "nbformat": 4,
 "nbformat_minor": 2
}
