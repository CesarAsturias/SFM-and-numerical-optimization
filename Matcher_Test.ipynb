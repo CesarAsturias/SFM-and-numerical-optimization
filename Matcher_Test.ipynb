{
 "cells": [
  {
   "cell_type": "code",
   "execution_count": null,
   "metadata": {},
   "outputs": [],
   "source": [
    "\"\"\"\n",
    "Load the required modules\n",
    "\"\"\"\n",
    "from IPython.core.display import display, HTML\n",
    "display(HTML(\"<style>.container { width:100% !important; }</style>\"))\n",
    "import numpy as np\n",
    "from dataset import Dataset\n",
    "from Matcher import Matcher\n",
    "from itertools import compress\n",
    "%pylab inline\n",
    "%matplotlib inline\n",
    "%matplotlib notebook\n",
    "import matplotlib.pyplot as plt\n",
    "import matplotlib as mpl\n",
    "mpl.rcParams['savefig.dpi'] = 280\n",
    "mpl.rcParams['figure.dpi'] = 280"
   ]
  },
  {
   "cell_type": "markdown",
   "metadata": {},
   "source": [
    "# Create the matcher objects"
   ]
  },
  {
   "cell_type": "code",
   "execution_count": null,
   "metadata": {},
   "outputs": [],
   "source": [
    "orb_matcher = Matcher({'detector':'orb', 'matcher':'brute_force'})\n",
    "sift_matcher = Matcher({'detector':'sift', 'matcher':'brute_force'})\n",
    "surf_matcher = Matcher({'detector':'surf', 'matcher':'brute_force'})\n",
    "\n",
    "orb_fmatcher = Matcher({'detector':'orb', 'matcher':'flann', \n",
    "                        'flann_index_params':dict(algorithm='FLANN_LSH',\n",
    "                                                 table_number=6, \n",
    "                                                 key_size=12,\n",
    "                                                 multi_probe_level=1),\n",
    "                        'flann_search_params':dict(checks=50)})\n",
    "sift_fmatcher = Matcher({'detector':'sift', 'matcher':'flann', \n",
    "                        'flann_index_params':dict(algorithm='FLANN_LSH',\n",
    "                                                 table_number=6, \n",
    "                                                 key_size=12,\n",
    "                                                 multi_probe_level=1),\n",
    "                        'flann_search_params':dict(checks=50)})\n",
    "surf_fmatcher = Matcher({'detector':'surf', 'matcher':'flann', \n",
    "                        'flann_index_params':dict(algorithm='FLANN_LSH',\n",
    "                                                 table_number=6, \n",
    "                                                 key_size=12,\n",
    "                                                 multi_probe_level=1),\n",
    "                        'flann_search_params':dict(checks=50)})\n",
    "matcher_objects = [orb_matcher, sift_matcher, surf_matcher, orb_fmatcher, sift_fmatcher, surf_fmatcher]"
   ]
  },
  {
   "cell_type": "markdown",
   "metadata": {},
   "source": [
    "# Test each matcher object\n",
    "Read images"
   ]
  },
  {
   "cell_type": "code",
   "execution_count": null,
   "metadata": {},
   "outputs": [],
   "source": [
    "kitti = Dataset('C:\\\\Users\\\\cesar\\\\Documents\\\\Personal\\\\Estudios\\\\TFG\\\\Kitti Dataset\\\\sequences\\\\00\\\\image_0')\n",
    "kitti.read_image()\n",
    "kitti.read_image()\n",
    "f = plt.figure()\n",
    "f.add_subplot(2,1, 1)\n",
    "plt.imshow(kitti.image_1)\n",
    "f.add_subplot(2,1, 2)\n",
    "plt.imshow(kitti.image_2)"
   ]
  },
  {
   "cell_type": "code",
   "execution_count": null,
   "metadata": {},
   "outputs": [],
   "source": [
    "%timeit orb_matcher.match(kitti.image_1, kitti.image_2)\n",
    "%timeit sift_matcher.match(kitti.image_1, kitti.image_2)\n",
    "%timeit surf_matcher.match(kitti.image_1, kitti.image_2)"
   ]
  },
  {
   "cell_type": "code",
   "execution_count": null,
   "metadata": {},
   "outputs": [],
   "source": [
    "f = plt.figure()\n",
    "plt.imshow(orb_matcher.draw_matches(img=kitti.image_2, kp1=orb_matcher.kp_list_to_np(orb_matcher.good_kp1).astype(int), kp2=orb_matcher.kp_list_to_np(orb_matcher.good_kp2).astype(int)))"
   ]
  },
  {
   "cell_type": "code",
   "execution_count": null,
   "metadata": {},
   "outputs": [],
   "source": []
  },
  {
   "cell_type": "code",
   "execution_count": null,
   "metadata": {
    "collapsed": true
   },
   "outputs": [],
   "source": []
  }
 ],
 "metadata": {
  "kernelspec": {
   "display_name": "Python 3",
   "language": "python",
   "name": "python3"
  },
  "language_info": {
   "codemirror_mode": {
    "name": "ipython",
    "version": 3
   },
   "file_extension": ".py",
   "mimetype": "text/x-python",
   "name": "python",
   "nbconvert_exporter": "python",
   "pygments_lexer": "ipython3",
   "version": "3.6.3"
  }
 },
 "nbformat": 4,
 "nbformat_minor": 2
}
